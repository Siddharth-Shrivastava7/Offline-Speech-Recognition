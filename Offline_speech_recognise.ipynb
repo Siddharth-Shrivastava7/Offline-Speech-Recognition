{
 "cells": [
  {
   "cell_type": "code",
   "execution_count": null,
   "metadata": {},
   "outputs": [],
   "source": [
    "import os\n",
    "from pocketsphinx import LiveSpeech, get_model_path\n",
    "\n",
    "model_path = get_model_path()\n",
    "print(model_path)\n",
    "\n",
    "speech = LiveSpeech(\n",
    "    sampling_rate=16000,\n",
    "    hmm=os.path.join(model_path, 'en-us'),\n",
    "    lm=os.path.join(model_path, '/home/username/pocketsphinx/model/en-us/filename.lm.bin'),\n",
    "     dic=os.path.join(model_path, '/home/username/pocketsphinx/model/en-us/filename.dic')\n",
    ")"
   ]
  },
  {
   "cell_type": "code",
   "execution_count": null,
   "metadata": {},
   "outputs": [],
   "source": [
    "for phrase in speech:\n",
    "    print(phrase)"
   ]
  }
 ],
 "metadata": {
  "kernelspec": {
   "display_name": "Python 3",
   "language": "python",
   "name": "python3"
  },
  "language_info": {
   "codemirror_mode": {
    "name": "ipython",
    "version": 3
   },
   "file_extension": ".py",
   "mimetype": "text/x-python",
   "name": "python",
   "nbconvert_exporter": "python",
   "pygments_lexer": "ipython3",
   "version": "3.6.5"
  }
 },
 "nbformat": 4,
 "nbformat_minor": 2
}
